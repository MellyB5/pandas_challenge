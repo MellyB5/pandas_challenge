{
 "cells": [
  {
   "cell_type": "code",
   "execution_count": null,
   "metadata": {},
   "outputs": [],
   "source": [
    "new_df4[\"Purchase Count\"] = new_df4[\"Purchase Count\"].astype(int)\r\n",
    "new_df4[\"Item Price\"] = new_df4[\"Item Price\"].map(\"${:,.2f}\".format)\r\n",
    "new_df4[\"Total Purchase Value\"] = new_df4[\"Total Purchase Value\"].map(\"${:,.2f}\".format)"
   ]
  }
 ],
 "metadata": {
  "interpreter": {
   "hash": "44819769b05112f27f93e424f8d134f22b8c83bbe7dc0548c3d5a98b45ca673a"
  },
  "kernelspec": {
   "display_name": "Python 3.6.10 64-bit ('PythonData': conda)",
   "name": "python3"
  },
  "language_info": {
   "name": "python",
   "version": ""
  },
  "orig_nbformat": 4
 },
 "nbformat": 4,
 "nbformat_minor": 2
}