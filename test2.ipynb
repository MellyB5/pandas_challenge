{
 "cells": [
  {
   "cell_type": "code",
   "execution_count": null,
   "metadata": {},
   "outputs": [],
   "source": [
    "import pandas as pd"
   ]
  },
  {
   "cell_type": "code",
   "execution_count": null,
   "metadata": {},
   "outputs": [],
   "source": [
    "file_to_load = \"HeroesofPymoli/purchase_data.csv\""
   ]
  },
  {
   "cell_type": "code",
   "execution_count": null,
   "metadata": {},
   "outputs": [],
   "source": [
    "purchase_data = pd.read_csv(file_to_load)\r\n",
    "purchase_data.head()"
   ]
  },
  {
   "cell_type": "code",
   "execution_count": null,
   "metadata": {},
   "outputs": [],
   "source": [
    "Total_players = len(purchase_data[\"SN\"].unique())\r\n",
    "Total_players_df = pd.DataFrame({\"Total Players\": [Total_players]})\r\n",
    "Total_players_df"
   ]
  },
  {
   "cell_type": "code",
   "execution_count": null,
   "metadata": {},
   "outputs": [],
   "source": [
    "unique_items = len(purchase_data[\"Item Name\"].unique())\r\n",
    "ave_price = purchase_data[\"Price\"].mean()\r\n",
    "num_purchases = purchase_data[\"Purchase ID\"].count()\r\n",
    "tot_revenue = purchase_data[\"Price\"].sum()\r\n",
    "\r\n",
    "purchasing_analyis_df = pd.DataFrame({\"Number of Unique Items\": [unique_items], \"Average Price\": [ave_price], \"Number of Purchases\": [num_purchases], \"Total Revenue\": [tot_revenue]})\r\n",
    "purchasing_analyis_df[\"Average Price\"] = purchasing_analyis_df[\"Average Price\"].map(\"${:,.2f}\".format)\r\n",
    "purchasing_analyis_df[\"Total Revenue\"] = purchasing_analyis_df[\"Total Revenue\"].map(\"${:,.2f}\".format)\r\n",
    "purchasing_analyis_df"
   ]
  },
  {
   "cell_type": "code",
   "execution_count": null,
   "metadata": {},
   "outputs": [],
   "source": [
    "no_duplicates = purchase_data.drop_duplicates(subset=[\"SN\"])\r\n",
    "# print(no_duplicates)\r\n",
    "\r\n",
    "# define a funciton\r\n",
    "def percentage(numbers):\r\n",
    "     return numbers/Total_players*100\r\n",
    "\r\n",
    "# % and count of males, females and other/non-diclosed\r\n",
    "gender_unique_count = no_duplicates[\"Gender\"].value_counts()\r\n",
    "\r\n",
    "male_percent = percentage(484)\r\n",
    "female_percent = percentage(81)\r\n",
    "other_percent = percentage(11)\r\n",
    "\r\n",
    "# new df\r\n",
    "gender_df = pd.DataFrame({\"\": [\"Male\", \"Female\", \"Other/Non-Disclosed\"],\r\n",
    "\"Total Count\": [484, 81, 11],\r\n",
    "\"Percentage of Players\": [male_percent, female_percent, other_percent]})\r\n",
    "gender_df[\"Percentage of Players\"] = gender_df[\"Percentage of Players\"].map(\"{:,.2f}%\".format)\r\n",
    "gender_df.set_index(\"\")"
   ]
  },
  {
   "cell_type": "code",
   "execution_count": null,
   "metadata": {},
   "outputs": [],
   "source": [
    "purchase_count = purchase_data.groupby(\"Gender\")[\"Purchase ID\"].count()\r\n",
    "ave_price = purchase_data.groupby(\"Gender\")[\"Price\"].mean()\r\n",
    "total_price = purchase_data.groupby(\"Gender\")[\"Price\"].sum()\r\n",
    "ave_per_person = purchase_data.groupby(\"Gender\")[\"Price\"].sum()/no_duplicates.groupby(\"Gender\")[\"SN\"].count()\r\n",
    "\r\n",
    "purchase_df = pd.DataFrame({\"Gender\": [\"Female\", \"Male\", \"Other/Non-Disclosed\"]})"
   ]
  },
  {
   "cell_type": "code",
   "execution_count": null,
   "metadata": {},
   "outputs": [],
   "source": [
    "purchase_df[\"Purchase Count\"] = purchase_count.reset_index()[\"Purchase ID\"]\r\n",
    "purchase_df[\"Average Price\"] = ave_price.reset_index()[\"Price\"]\r\n",
    "purchase_df[\"Total Purchase Value\"] = total_price.reset_index()[\"Price\"]\r\n",
    "purchase_df[\"Average Total Per Person\"] = ave_per_person.to_frame().reset_index()[0]\r\n",
    "purchase_df[\"Average Price\"] = purchase_df[\"Average Price\"].map(\"${:,.2f}\".format)\r\n",
    "purchase_df[\"Total Purchase Value\"] = purchase_df[\"Total Purchase Value\"].map(\"${:,.2f}\".format)\r\n",
    "purchase_df[\"Average Total Per Person\"] = purchase_df[\"Average Total Per Person\"].map(\"${:,.2f}\".format)\r\n",
    "purchase_df\r\n"
   ]
  },
  {
   "cell_type": "code",
   "execution_count": null,
   "metadata": {},
   "outputs": [],
   "source": [
    "bins = [0,9,14,19,24,29,34,39,100]\r\n",
    "age_labels = [\"<10\", \"10-14\", \"15-19\",\"20-24\",\"25-29\",\"30-34\",\"35-39\",\"40+\"]\r\n",
    "no_duplicates[\"Age Range\"] = pd.cut(no_duplicates[\"Age\"], bins, labels=age_labels)"
   ]
  },
  {
   "cell_type": "code",
   "execution_count": null,
   "metadata": {},
   "outputs": [],
   "source": [
    "all_rows = len(no_duplicates)\r\n",
    "count_age_range = no_duplicates.groupby(\"Age Range\")[\"SN\"].count()\r\n",
    "new_df = pd.DataFrame(count_age_range)\r\n",
    "new_df[\"%\"] = round(new_df[\"SN\"] / all_rows * 100, 2)\r\n",
    "new_df[\"%\"] = new_df[\"%\"].map(\"{:,.2f}%\".format)\r\n",
    "new_df.columns = [\"Total Count\", \"Percentage of Players\"]\r\n",
    "new_df"
   ]
  },
  {
   "cell_type": "code",
   "execution_count": null,
   "metadata": {},
   "outputs": [],
   "source": [
    "purchase_data[\"Age Range\"] = pd.cut(purchase_data[\"Age\"], bins, labels=age_labels)\r\n",
    "count_age_range = purchase_data.groupby(\"Age Range\")[\"Price\"].count().rename(\"Total Count\")\r\n",
    "sum_age_range = purchase_data.groupby(\"Age Range\")[\"Price\"].sum().rename(\"Total Purchase Value\")\r\n",
    "mean_age_range = purchase_data.groupby(\"Age Range\")[\"Price\"].mean().rename(\"Avg Purchase Value\")\r\n",
    "new_df[\"Total Count\"]\r\n",
    "new_df2 = pd.DataFrame([count_age_range, mean_age_range, sum_age_range, sum_age_range/new_df[\"Total Count\"]])\r\n",
    "\r\n",
    "new_df2 = new_df2.T\r\n",
    "new_df2.columns = ['Purchase Count', 'Average Purchase Price', 'Total Purchase Value', 'Avg Total Purchase per Person']\r\n",
    "new_df2[\"Purchase Count\"] = new_df2[\"Purchase Count\"].astype(int)\r\n",
    "new_df2[\"Average Purchase Price\"] = new_df2[\"Average Purchase Price\"].map(\"${:,.2f}\".format)\r\n",
    "new_df2[\"Total Purchase Value\"] = new_df2[\"Total Purchase Value\"].map(\"${:,.2f}\".format)\r\n",
    "new_df2[\"Avg Total Purchase per Person\"] = new_df2[\"Avg Total Purchase per Person\"].map(\"${:,.2f}\".format)\r\n",
    "new_df2"
   ]
  },
  {
   "cell_type": "code",
   "execution_count": null,
   "metadata": {},
   "outputs": [],
   "source": [
    "purchase_data[\"Age Range\"] = pd.cut(purchase_data[\"Age\"], bins, labels=age_labels)\r\n",
    "count_age_range = purchase_data.groupby(\"SN\")[\"Price\"].count().rename(\"Total Count\")\r\n",
    "sum_age_range = purchase_data.groupby(\"SN\")[\"Price\"].sum().rename(\"Total Purchase Value\")\r\n",
    "mean_age_range = purchase_data.groupby(\"SN\")[\"Price\"].mean().rename(\"Avg Purchase Value\")\r\n",
    "new_df3 = pd.DataFrame([count_age_range, mean_age_range, sum_age_range])\r\n",
    "\r\n",
    "new_df3 = new_df3.T\r\n",
    "new_df3.columns = ['Purchase Count', 'Average Purchase Price', 'Total Purchase Value']\r\n",
    "new_df3.sort_values(\"Total Purchase Value\", ascending=False, inplace=True)\r\n",
    "new_df3[\"Purchase Count\"] = new_df3[\"Purchase Count\"].astype(int)\r\n",
    "new_df3[\"Average Purchase Price\"] = new_df3[\"Average Purchase Price\"].map(\"${:,.2f}\".format)\r\n",
    "new_df3[\"Total Purchase Value\"] = new_df3[\"Total Purchase Value\"].map(\"${:,.2f}\".format)\r\n",
    "new_df3.head()"
   ]
  },
  {
   "cell_type": "code",
   "execution_count": null,
   "metadata": {},
   "outputs": [],
   "source": [
    "count_age_range = purchase_data.groupby([\"Item ID\", \"Item Name\"])[\"Price\"].count().rename(\"Purchase Count\")\r\n",
    "sum_age_range = purchase_data.groupby([\"Item ID\", \"Item Name\"])[\"Price\"].sum().rename(\"Total Purchase Value\")\r\n",
    "mean_age_range = purchase_data.groupby([\"Item ID\", \"Item Name\"])[\"Price\"].mean().rename(\"Item Price\")\r\n",
    "new_df4 = pd.DataFrame([count_age_range, mean_age_range, sum_age_range])\r\n",
    "\r\n",
    "new_df4 = new_df4.T\r\n",
    "# new_df4.columns = ['Purchase Count', 'Average Purchase Price', 'Total Purchase Value']\r\n",
    "new_df4.sort_values(\"Purchase Count\", ascending=False, inplace=True)\r\n",
    "new_df4[\"Purchase Count\"] = new_df4[\"Purchase Count\"].astype(int)\r\n",
    "new_df4[\"Item Price\"] = new_df4[\"Item Price\"].map(\"${:,.2f}\".format)\r\n",
    "new_df4[\"Total Purchase Value\"] = new_df4[\"Total Purchase Value\"].map(\"${:,.2f}\".format)\r\n",
    "new_df4.head()"
   ]
  },
  {
   "cell_type": "code",
   "execution_count": null,
   "metadata": {},
   "outputs": [],
   "source": [
    "new_df5 = pd.DataFrame([count_age_range, mean_age_range, sum_age_range])\r\n",
    "new_df5 = new_df5.T\r\n",
    "new_df5 = new_df5.sort_values(\"Total Purchase Value\", ascending=False)\r\n",
    "new_df5[\"Purchase Count\"] = new_df5[\"Purchase Count\"].astype(int)\r\n",
    "new_df5[\"Item Price\"] = new_df5[\"Item Price\"].map(\"${:,.2f}\".format)\r\n",
    "new_df5[\"Total Purchase Value\"] = new_df5[\"Total Purchase Value\"].map(\"${:,.2f}\".format)\r\n",
    "new_df5.head()"
   ]
  }
 ],
 "metadata": {
  "interpreter": {
   "hash": "44819769b05112f27f93e424f8d134f22b8c83bbe7dc0548c3d5a98b45ca673a"
  },
  "kernelspec": {
   "display_name": "Python 3.6.10 64-bit ('PythonData': conda)",
   "name": "python3"
  },
  "language_info": {
   "name": "python",
   "version": ""
  },
  "orig_nbformat": 4
 },
 "nbformat": 4,
 "nbformat_minor": 2
}